{
 "cells": [
  {
   "cell_type": "markdown",
   "metadata": {},
   "source": [
    "# Question - Print Armstrong"
   ]
  },
  {
   "cell_type": "code",
   "execution_count": 1,
   "metadata": {},
   "outputs": [
    {
     "name": "stdout",
     "output_type": "stream",
     "text": [
      "The first Armstrong Numbers is: \n",
      "1741725\n"
     ]
    }
   ],
   "source": [
    "x=1042000\n",
    "y=702648265\n",
    "print(\"The first Armstrong Numbers is: \")\n",
    "for Number in range(x,y):\n",
    "    digits=0\n",
    "    temp=Number\n",
    "    while temp>0:\n",
    "        digits=digits+1\n",
    "        temp=temp//10\n",
    "    sum=0\n",
    "    temp=Number\n",
    "    \n",
    "    while temp>0: \n",
    "        last_digit=temp%10\n",
    "        sum=sum+(last_digit**digits)\n",
    "        temp=temp//10\n",
    "        \n",
    "    if Number == sum:\n",
    "        print(Number)\n",
    "        break"
   ]
  },
  {
   "cell_type": "code",
   "execution_count": null,
   "metadata": {},
   "outputs": [],
   "source": []
  }
 ],
 "metadata": {
  "kernelspec": {
   "display_name": "Python 3",
   "language": "python",
   "name": "python3"
  },
  "language_info": {
   "codemirror_mode": {
    "name": "ipython",
    "version": 3
   },
   "file_extension": ".py",
   "mimetype": "text/x-python",
   "name": "python",
   "nbconvert_exporter": "python",
   "pygments_lexer": "ipython3",
   "version": "3.8.3"
  }
 },
 "nbformat": 4,
 "nbformat_minor": 4
}
