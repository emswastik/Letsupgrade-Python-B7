{
 "cells": [
  {
   "cell_type": "code",
   "execution_count": 7,
   "metadata": {},
   "outputs": [
    {
     "name": "stdout",
     "output_type": "stream",
     "text": [
      "Hello  Swastik !!!, Welcome to the Deposit & Withdrawal Machine\n",
      "Enter amount to be Deposited: 1000\n",
      "\n",
      " Amount Deposited: 1000.0\n",
      "Enter amount to be Withdrawn: 2000\n",
      "\n",
      " Insufficient balance  \n",
      "\n",
      " Net Available Balance= 1000.0\n"
     ]
    }
   ],
   "source": [
    "#Question1 Bank Account Class\n",
    "\n",
    "class Bank_Account: \n",
    "    def __init__(self,name): \n",
    "        self.name = name\n",
    "        \n",
    "        self.balance=0\n",
    "        print(\"Hello \",(self.name),\"!!!, Welcome to the Deposit & Withdrawal Machine\") \n",
    "  \n",
    "    def deposit(self): \n",
    "        amount=float(input(\"Enter amount to be Deposited: \")) \n",
    "        self.balance += amount \n",
    "        print(\"\\n Amount Deposited:\",amount) \n",
    "  \n",
    "    def withdraw(self): \n",
    "        amount = float(input(\"Enter amount to be Withdrawn: \")) \n",
    "        if self.balance>=amount: \n",
    "            self.balance-=amount \n",
    "            print(\"\\n You Withdrew:\", amount) \n",
    "        else: \n",
    "            print(\"\\n Insufficient balance  \") \n",
    "  \n",
    "    def display(self): \n",
    "        print(\"\\n Net Available Balance=\",self.balance) \n",
    "  \n",
    "   \n",
    "# creating an object of class \n",
    "s = Bank_Account(\"Swastik\") \n",
    "   \n",
    "# Calling functions with that class object \n",
    "s.deposit() \n",
    "s.withdraw() \n",
    "s.display() "
   ]
  },
  {
   "cell_type": "code",
   "execution_count": 20,
   "metadata": {},
   "outputs": [
    {
     "name": "stdout",
     "output_type": "stream",
     "text": [
      "Enter radius of cone: 4\n",
      "Enter height of cone: 8\n",
      "Volume of cone: 134.04\n",
      "Surface area of circle: 162.66\n"
     ]
    }
   ],
   "source": [
    "#Question2 Cone Class\n",
    "\n",
    "import math\n",
    "class cone():\n",
    "    def __init__(self,radius,height):\n",
    "        self.radius=radius\n",
    "        self.height=height\n",
    "        \n",
    "    def volume(self):\n",
    "        return math.pi*(self.radius**2)*(self.height/3)\n",
    "    \n",
    "    #total surface area = base_area + surface_area\n",
    "    def surface_area_base(self):\n",
    "        return math.pi*self.radius**2\n",
    "    def surface_area_side(self):\n",
    "        return math.pi*self.radius*(math.sqrt(self.radius**2+self.height**2))\n",
    "    \n",
    "radius=int(input(\"Enter radius of cone: \"))\n",
    "height=int(input(\"Enter height of cone: \"))\n",
    "\n",
    "obj = cone(radius,height)\n",
    "\n",
    "print(\"Volume of cone:\",round(obj.volume(),2))\n",
    "print(\"Surface area of circle:\",round(obj.surface_area_base()+obj.surface_area_side(),2))"
   ]
  }
 ],
 "metadata": {
  "kernelspec": {
   "display_name": "Python 3",
   "language": "python",
   "name": "python3"
  },
  "language_info": {
   "codemirror_mode": {
    "name": "ipython",
    "version": 3
   },
   "file_extension": ".py",
   "mimetype": "text/x-python",
   "name": "python",
   "nbconvert_exporter": "python",
   "pygments_lexer": "ipython3",
   "version": "3.8.3"
  }
 },
 "nbformat": 4,
 "nbformat_minor": 4
}
